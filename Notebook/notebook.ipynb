{
 "cells": [
  {
   "cell_type": "markdown",
   "id": "2be780dd",
   "metadata": {},
   "source": [
    "<p align=\"center\">\n",
    "  <img src=\"../img/manfing.png\" title=\"img-principal\">\n",
    "</p>"
   ]
  },
  {
   "cell_type": "markdown",
   "id": "5bc1a9b1",
   "metadata": {},
   "source": [
    "# CONTEXTO DO PROBLEMA"
   ]
  },
  {
   "cell_type": "markdown",
   "id": "63e80cbc",
   "metadata": {},
   "source": [
    "A **Manfing** é uma empresa que ajuda industrias, varejistas e instituições financeiras a entenderem o comportamento e consumo de seus clientes, para que possam tomar ações mais assertivas. Com isso, os clientes Manfing passam a ter uma previsão de vendas e demanda alinhada a dados de mercado, podendo aumentar seu faturamento e fidelização dos clientes.\n",
    "\n",
    "A plataforma da Manfing utiliza inteligencia artificial para:\n",
    "\n",
    "- Reativar clientes.\n",
    "- Entender o consumo e comportamento.\n",
    "- Recomendar novos produtos.\n",
    "- Pricing interno e de concorrentes.\n",
    "- Encontrar potencial de recompra ou novos SKUs.\n",
    "- Criar campanhas de WhatsApp para o público alvo."
   ]
  },
  {
   "cell_type": "markdown",
   "id": "7de95789",
   "metadata": {},
   "source": [
    "# O PROBLEMA"
   ]
  },
  {
   "cell_type": "markdown",
   "id": "21ec9ad3",
   "metadata": {},
   "source": [
    "Um dos clientes da Manfing possui uma grande quantidade de clientes e entrou em contato, com uma necessidade de entender melhor o comportamento de seus consumidores para direcionar melhor o marketing e entender qual o perfil das pessoas que compram o produto."
   ]
  },
  {
   "cell_type": "markdown",
   "id": "f7c82f0a",
   "metadata": {},
   "source": [
    "# ENTENDIMENTO DO PROBLEMA"
   ]
  },
  {
   "cell_type": "markdown",
   "id": "92919ed7",
   "metadata": {},
   "source": [
    "**Motivação:**\n",
    "- Entender o comportamento dos consumidores.\n",
    "\n",
    "**Causa Raiz do Problema:**\n",
    "- Diercionar melhor o Marketing.\n",
    "\n",
    "**Potênciais métodos:**\n",
    "- Clusterização, Análise de dados.\n",
    "\n",
    "**Entrega da Solução:**\n",
    "- Jupyter Notebook."
   ]
  },
  {
   "cell_type": "markdown",
   "id": "8d4a0217",
   "metadata": {},
   "source": [
    "# PLANEJAMENTO"
   ]
  },
  {
   "cell_type": "markdown",
   "id": "cc606772",
   "metadata": {},
   "source": [
    "**Descrição de Dados**\n",
    "- Entender os dados e verificar nulos.\n",
    "\n",
    "**Estatistica Descritiva**\n",
    "- Avaliar estatisticas de primeira ordem e identificar inconsistências.\n",
    "\n",
    "**Feature Engineering**\n",
    "- Derivar/criar novas features.\n",
    "\n",
    "**Análise Exploratória de Dados**\n",
    "- Realizar análise univariada/bivariada/multivarida para encontrar insights sobre comportamente de clientes.\n",
    "\n",
    "**Analisar métricas financeiras**\n",
    "- Realizar análise para encontrar insights sobre consumo financeiro dos clientes."
   ]
  },
  {
   "cell_type": "markdown",
   "id": "da75f680",
   "metadata": {},
   "source": [
    "# 0.0 IMPORTS"
   ]
  },
  {
   "cell_type": "code",
   "execution_count": 47,
   "id": "7d3daf7e",
   "metadata": {},
   "outputs": [],
   "source": [
    "# manipulation\n",
    "import pandas as pd\n",
    "import inflection\n",
    "import re\n",
    "import numpy as np\n",
    "\n",
    "# visualization\n",
    "import matplotlib.pyplot as plt\n",
    "import seaborn as sns\n",
    "\n",
    "# others\n",
    "import warnings\n",
    "warnings.filterwarnings(\"ignore\")"
   ]
  },
  {
   "cell_type": "markdown",
   "id": "c02288ce",
   "metadata": {},
   "source": [
    "## 0.1 Carregamento de Dados"
   ]
  },
  {
   "cell_type": "code",
   "execution_count": 111,
   "id": "4e95ea5b",
   "metadata": {},
   "outputs": [
    {
     "data": {
      "text/html": [
       "<div>\n",
       "<style scoped>\n",
       "    .dataframe tbody tr th:only-of-type {\n",
       "        vertical-align: middle;\n",
       "    }\n",
       "\n",
       "    .dataframe tbody tr th {\n",
       "        vertical-align: top;\n",
       "    }\n",
       "\n",
       "    .dataframe thead th {\n",
       "        text-align: right;\n",
       "    }\n",
       "</style>\n",
       "<table border=\"1\" class=\"dataframe\">\n",
       "  <thead>\n",
       "    <tr style=\"text-align: right;\">\n",
       "      <th></th>\n",
       "      <th>BillNo</th>\n",
       "      <th>Itemname</th>\n",
       "      <th>Quantity</th>\n",
       "      <th>Date</th>\n",
       "      <th>Price</th>\n",
       "      <th>CustomerID</th>\n",
       "      <th>Country</th>\n",
       "    </tr>\n",
       "  </thead>\n",
       "  <tbody>\n",
       "    <tr>\n",
       "      <th>0</th>\n",
       "      <td>536365</td>\n",
       "      <td>WHITE HANGING HEART T-LIGHT HOLDER</td>\n",
       "      <td>6</td>\n",
       "      <td>2010-12-01 08:26:00</td>\n",
       "      <td>2.55</td>\n",
       "      <td>17850.0</td>\n",
       "      <td>United Kingdom</td>\n",
       "    </tr>\n",
       "    <tr>\n",
       "      <th>1</th>\n",
       "      <td>536365</td>\n",
       "      <td>WHITE METAL LANTERN</td>\n",
       "      <td>6</td>\n",
       "      <td>2010-12-01 08:26:00</td>\n",
       "      <td>3.39</td>\n",
       "      <td>17850.0</td>\n",
       "      <td>United Kingdom</td>\n",
       "    </tr>\n",
       "    <tr>\n",
       "      <th>2</th>\n",
       "      <td>536365</td>\n",
       "      <td>CREAM CUPID HEARTS COAT HANGER</td>\n",
       "      <td>8</td>\n",
       "      <td>2010-12-01 08:26:00</td>\n",
       "      <td>2.75</td>\n",
       "      <td>17850.0</td>\n",
       "      <td>United Kingdom</td>\n",
       "    </tr>\n",
       "    <tr>\n",
       "      <th>3</th>\n",
       "      <td>536365</td>\n",
       "      <td>KNITTED UNION FLAG HOT WATER BOTTLE</td>\n",
       "      <td>6</td>\n",
       "      <td>2010-12-01 08:26:00</td>\n",
       "      <td>3.39</td>\n",
       "      <td>17850.0</td>\n",
       "      <td>United Kingdom</td>\n",
       "    </tr>\n",
       "    <tr>\n",
       "      <th>4</th>\n",
       "      <td>536365</td>\n",
       "      <td>RED WOOLLY HOTTIE WHITE HEART.</td>\n",
       "      <td>6</td>\n",
       "      <td>2010-12-01 08:26:00</td>\n",
       "      <td>3.39</td>\n",
       "      <td>17850.0</td>\n",
       "      <td>United Kingdom</td>\n",
       "    </tr>\n",
       "  </tbody>\n",
       "</table>\n",
       "</div>"
      ],
      "text/plain": [
       "   BillNo                             Itemname  Quantity                Date  \\\n",
       "0  536365   WHITE HANGING HEART T-LIGHT HOLDER         6 2010-12-01 08:26:00   \n",
       "1  536365                  WHITE METAL LANTERN         6 2010-12-01 08:26:00   \n",
       "2  536365       CREAM CUPID HEARTS COAT HANGER         8 2010-12-01 08:26:00   \n",
       "3  536365  KNITTED UNION FLAG HOT WATER BOTTLE         6 2010-12-01 08:26:00   \n",
       "4  536365       RED WOOLLY HOTTIE WHITE HEART.         6 2010-12-01 08:26:00   \n",
       "\n",
       "   Price  CustomerID         Country  \n",
       "0   2.55     17850.0  United Kingdom  \n",
       "1   3.39     17850.0  United Kingdom  \n",
       "2   2.75     17850.0  United Kingdom  \n",
       "3   3.39     17850.0  United Kingdom  \n",
       "4   3.39     17850.0  United Kingdom  "
      ]
     },
     "execution_count": 111,
     "metadata": {},
     "output_type": "execute_result"
    }
   ],
   "source": [
    "# lendo dados\n",
    "data = pd.read_excel('../data/DataSet_Test.xlsx')\n",
    "\n",
    "# mostrando dados\n",
    "data.head()"
   ]
  },
  {
   "cell_type": "markdown",
   "id": "476db4fa",
   "metadata": {},
   "source": [
    "# 1.0 DESCRIÇÃO DE DADOS"
   ]
  },
  {
   "cell_type": "markdown",
   "id": "7fbe480d",
   "metadata": {},
   "source": [
    "## 1.1 Dimensão de Dados"
   ]
  },
  {
   "cell_type": "code",
   "execution_count": 112,
   "id": "34da092a",
   "metadata": {},
   "outputs": [
    {
     "name": "stdout",
     "output_type": "stream",
     "text": [
      "Qty. Columns: 7\n",
      "Qty. Rows: 522064\n"
     ]
    }
   ],
   "source": [
    "rows = data.shape[0] # quantidade de linhas\n",
    "col  = data.shape[1] # quantidade de colunas\n",
    "\n",
    "# mostrando qtd. linhas e colunas\n",
    "print('Qty. Columns:', col)\n",
    "print('Qty. Rows:', rows)"
   ]
  },
  {
   "cell_type": "markdown",
   "id": "86841da3",
   "metadata": {},
   "source": [
    "## 1.2 Renomeação de Colunas"
   ]
  },
  {
   "cell_type": "code",
   "execution_count": 113,
   "id": "a5dbd824",
   "metadata": {},
   "outputs": [
    {
     "data": {
      "text/plain": [
       "Index(['bill_no', 'itemname', 'quantity', 'date', 'price', 'customer_id',\n",
       "       'country'],\n",
       "      dtype='object')"
      ]
     },
     "execution_count": 113,
     "metadata": {},
     "output_type": "execute_result"
    }
   ],
   "source": [
    "# função para passar o nome das colunas para o padrão snakecase\n",
    "snakecase = lambda x: inflection.underscore(x)\n",
    "\n",
    "# colunas originais\n",
    "old_columns = data.columns \n",
    "\n",
    "# passando para snakecase e substituindo nos dados originais\n",
    "data.columns = list(map(snakecase, old_columns))\n",
    "\n",
    "# mostrando novas colunas atuais\n",
    "data.columns"
   ]
  },
  {
   "cell_type": "markdown",
   "id": "39a7212c",
   "metadata": {},
   "source": [
    "## 1.3 Tipo de Dados"
   ]
  },
  {
   "cell_type": "code",
   "execution_count": 114,
   "id": "af186768",
   "metadata": {},
   "outputs": [
    {
     "data": {
      "text/plain": [
       "bill_no                object\n",
       "itemname               object\n",
       "quantity                int64\n",
       "date           datetime64[ns]\n",
       "price                 float64\n",
       "customer_id           float64\n",
       "country                object\n",
       "dtype: object"
      ]
     },
     "execution_count": 114,
     "metadata": {},
     "output_type": "execute_result"
    }
   ],
   "source": [
    "# verificando se os tipos de dados estão corretos\n",
    "data.dtypes"
   ]
  },
  {
   "cell_type": "markdown",
   "id": "983690d9",
   "metadata": {},
   "source": [
    "## 1.4 Dados Faltantes"
   ]
  },
  {
   "cell_type": "code",
   "execution_count": 115,
   "id": "91ba31bf",
   "metadata": {},
   "outputs": [
    {
     "data": {
      "text/plain": [
       "bill_no             0\n",
       "itemname         1455\n",
       "quantity            0\n",
       "date                0\n",
       "price               0\n",
       "customer_id    134041\n",
       "country             0\n",
       "dtype: int64"
      ]
     },
     "execution_count": 115,
     "metadata": {},
     "output_type": "execute_result"
    }
   ],
   "source": [
    "# verificando se há dados nulos/faltantes\n",
    "data.isna().sum()"
   ]
  },
  {
   "cell_type": "markdown",
   "id": "cb22bac4",
   "metadata": {},
   "source": [
    "## 1.5 Tratamento de Dados Faltantes"
   ]
  },
  {
   "cell_type": "markdown",
   "id": "1890bdb6",
   "metadata": {},
   "source": [
    "### 1.5.1 Customer ID"
   ]
  },
  {
   "cell_type": "markdown",
   "id": "c7ffbd48",
   "metadata": {},
   "source": [
    "**AÇÃO:** Criar novos ID´s para os clientes que não possuem."
   ]
  },
  {
   "cell_type": "code",
   "execution_count": 116,
   "id": "9ac61fd7",
   "metadata": {},
   "outputs": [
    {
     "data": {
      "text/plain": [
       "bill_no           0\n",
       "itemname       1455\n",
       "quantity          0\n",
       "date              0\n",
       "price             0\n",
       "country           0\n",
       "customer_id       0\n",
       "dtype: int64"
      ]
     },
     "execution_count": 116,
     "metadata": {},
     "output_type": "execute_result"
    }
   ],
   "source": [
    "START = 1900 # incicio dos Customer ID´s para quem não tem\n",
    "\n",
    "# código de compras unicos\n",
    "df_buckup = pd.DataFrame(data['bill_no'].drop_duplicates())\n",
    "\n",
    "# gerando codigos de 1900 até o tamanho de codigo de compras unicas\n",
    "df_buckup['customer_id'] = np.arange(START, START+len(df_buckup), 1)\n",
    "\n",
    "# Fazendo um merge com a referencia de compra\n",
    "df1 = pd.merge(data, df_buckup, on='bill_no', how='left')\n",
    "\n",
    "# coalesce\n",
    "df1['customer_id'] = df1['customer_id_x'].combine_first(df1['customer_id_y'])\n",
    "\n",
    "# drop colunas extras criadas\n",
    "df1.drop(columns=['customer_id_x', 'customer_id_y'], inplace=True)\n",
    "\n",
    "# verificando quantidade de nulos \n",
    "df1.isna().sum()"
   ]
  },
  {
   "cell_type": "markdown",
   "id": "d9ab6b71",
   "metadata": {},
   "source": [
    "### 1.5.2 Item Name"
   ]
  },
  {
   "cell_type": "markdown",
   "id": "dc51c74a",
   "metadata": {},
   "source": [
    "**AÇÃO:** Há dois tipos de ações pensadas:\n",
    "\n",
    "1. deletar a coluna. \n",
    "- <ins>Beneficios</ins>: Manter mais 1.455 linhas/dados de clientes para análise.\n",
    "- <ins>Riscos</ins>:     Falta de insight sobre o perfil do que os clientes compram em cada país.\n",
    "\n",
    "2. excluir as linhas nulas.\n",
    "- <ins>Beneficios</ins>: Conseguir insight sobre o perfil do que os clientes compram em cada país.\n",
    "- <ins>Riscos</ins>:     Perder 1.455 linhas/dados de clientes para análise.\n",
    "\n",
    "**Escolha:** Manter a coluna sobre o produto e excluir as linhas nulas."
   ]
  },
  {
   "cell_type": "code",
   "execution_count": 117,
   "id": "4c047a0f",
   "metadata": {},
   "outputs": [
    {
     "data": {
      "text/plain": [
       "bill_no        0\n",
       "itemname       0\n",
       "quantity       0\n",
       "date           0\n",
       "price          0\n",
       "country        0\n",
       "customer_id    0\n",
       "dtype: int64"
      ]
     },
     "execution_count": 117,
     "metadata": {},
     "output_type": "execute_result"
    }
   ],
   "source": [
    "# excluindo dados dados nulos\n",
    "data = df1.dropna().copy()\n",
    "data.isna().sum()"
   ]
  },
  {
   "cell_type": "markdown",
   "id": "b69c2e80",
   "metadata": {},
   "source": [
    "## 1.4 Mudança Tipo de Dados"
   ]
  },
  {
   "cell_type": "code",
   "execution_count": 118,
   "id": "ee1069ce",
   "metadata": {
    "scrolled": true
   },
   "outputs": [
    {
     "ename": "ValueError",
     "evalue": "invalid literal for int() with base 10: 'A563185'",
     "output_type": "error",
     "traceback": [
      "\u001b[1;31m---------------------------------------------------------------------------\u001b[0m",
      "\u001b[1;31mValueError\u001b[0m                                Traceback (most recent call last)",
      "\u001b[1;32mC:\\Users\\JHONAT~1\\AppData\\Local\\Temp/ipykernel_8496/2993023865.py\u001b[0m in \u001b[0;36m<module>\u001b[1;34m\u001b[0m\n\u001b[0;32m      3\u001b[0m \u001b[1;33m\u001b[0m\u001b[0m\n\u001b[0;32m      4\u001b[0m \u001b[1;31m# bill_no: de str para int (aqui dá erro)\u001b[0m\u001b[1;33m\u001b[0m\u001b[1;33m\u001b[0m\u001b[1;33m\u001b[0m\u001b[0m\n\u001b[1;32m----> 5\u001b[1;33m \u001b[0mdata\u001b[0m\u001b[1;33m[\u001b[0m\u001b[1;34m'bill_no'\u001b[0m\u001b[1;33m]\u001b[0m \u001b[1;33m=\u001b[0m \u001b[0mdata\u001b[0m\u001b[1;33m[\u001b[0m\u001b[1;34m'bill_no'\u001b[0m\u001b[1;33m]\u001b[0m\u001b[1;33m.\u001b[0m\u001b[0mastype\u001b[0m\u001b[1;33m(\u001b[0m\u001b[1;34m'int'\u001b[0m\u001b[1;33m)\u001b[0m\u001b[1;33m\u001b[0m\u001b[1;33m\u001b[0m\u001b[0m\n\u001b[0m",
      "\u001b[1;32mc:\\users\\jhonatans\\appdata\\local\\programs\\python\\python39\\lib\\site-packages\\pandas\\core\\generic.py\u001b[0m in \u001b[0;36mastype\u001b[1;34m(self, dtype, copy, errors)\u001b[0m\n\u001b[0;32m   5804\u001b[0m         \u001b[1;32melse\u001b[0m\u001b[1;33m:\u001b[0m\u001b[1;33m\u001b[0m\u001b[1;33m\u001b[0m\u001b[0m\n\u001b[0;32m   5805\u001b[0m             \u001b[1;31m# else, only a single dtype is given\u001b[0m\u001b[1;33m\u001b[0m\u001b[1;33m\u001b[0m\u001b[1;33m\u001b[0m\u001b[0m\n\u001b[1;32m-> 5806\u001b[1;33m             \u001b[0mnew_data\u001b[0m \u001b[1;33m=\u001b[0m \u001b[0mself\u001b[0m\u001b[1;33m.\u001b[0m\u001b[0m_mgr\u001b[0m\u001b[1;33m.\u001b[0m\u001b[0mastype\u001b[0m\u001b[1;33m(\u001b[0m\u001b[0mdtype\u001b[0m\u001b[1;33m=\u001b[0m\u001b[0mdtype\u001b[0m\u001b[1;33m,\u001b[0m \u001b[0mcopy\u001b[0m\u001b[1;33m=\u001b[0m\u001b[0mcopy\u001b[0m\u001b[1;33m,\u001b[0m \u001b[0merrors\u001b[0m\u001b[1;33m=\u001b[0m\u001b[0merrors\u001b[0m\u001b[1;33m)\u001b[0m\u001b[1;33m\u001b[0m\u001b[1;33m\u001b[0m\u001b[0m\n\u001b[0m\u001b[0;32m   5807\u001b[0m             \u001b[1;32mreturn\u001b[0m \u001b[0mself\u001b[0m\u001b[1;33m.\u001b[0m\u001b[0m_constructor\u001b[0m\u001b[1;33m(\u001b[0m\u001b[0mnew_data\u001b[0m\u001b[1;33m)\u001b[0m\u001b[1;33m.\u001b[0m\u001b[0m__finalize__\u001b[0m\u001b[1;33m(\u001b[0m\u001b[0mself\u001b[0m\u001b[1;33m,\u001b[0m \u001b[0mmethod\u001b[0m\u001b[1;33m=\u001b[0m\u001b[1;34m\"astype\"\u001b[0m\u001b[1;33m)\u001b[0m\u001b[1;33m\u001b[0m\u001b[1;33m\u001b[0m\u001b[0m\n\u001b[0;32m   5808\u001b[0m \u001b[1;33m\u001b[0m\u001b[0m\n",
      "\u001b[1;32mc:\\users\\jhonatans\\appdata\\local\\programs\\python\\python39\\lib\\site-packages\\pandas\\core\\internals\\managers.py\u001b[0m in \u001b[0;36mastype\u001b[1;34m(self, dtype, copy, errors)\u001b[0m\n\u001b[0;32m    412\u001b[0m \u001b[1;33m\u001b[0m\u001b[0m\n\u001b[0;32m    413\u001b[0m     \u001b[1;32mdef\u001b[0m \u001b[0mastype\u001b[0m\u001b[1;33m(\u001b[0m\u001b[0mself\u001b[0m\u001b[1;33m:\u001b[0m \u001b[0mT\u001b[0m\u001b[1;33m,\u001b[0m \u001b[0mdtype\u001b[0m\u001b[1;33m,\u001b[0m \u001b[0mcopy\u001b[0m\u001b[1;33m:\u001b[0m \u001b[0mbool\u001b[0m \u001b[1;33m=\u001b[0m \u001b[1;32mFalse\u001b[0m\u001b[1;33m,\u001b[0m \u001b[0merrors\u001b[0m\u001b[1;33m:\u001b[0m \u001b[0mstr\u001b[0m \u001b[1;33m=\u001b[0m \u001b[1;34m\"raise\"\u001b[0m\u001b[1;33m)\u001b[0m \u001b[1;33m->\u001b[0m \u001b[0mT\u001b[0m\u001b[1;33m:\u001b[0m\u001b[1;33m\u001b[0m\u001b[1;33m\u001b[0m\u001b[0m\n\u001b[1;32m--> 414\u001b[1;33m         \u001b[1;32mreturn\u001b[0m \u001b[0mself\u001b[0m\u001b[1;33m.\u001b[0m\u001b[0mapply\u001b[0m\u001b[1;33m(\u001b[0m\u001b[1;34m\"astype\"\u001b[0m\u001b[1;33m,\u001b[0m \u001b[0mdtype\u001b[0m\u001b[1;33m=\u001b[0m\u001b[0mdtype\u001b[0m\u001b[1;33m,\u001b[0m \u001b[0mcopy\u001b[0m\u001b[1;33m=\u001b[0m\u001b[0mcopy\u001b[0m\u001b[1;33m,\u001b[0m \u001b[0merrors\u001b[0m\u001b[1;33m=\u001b[0m\u001b[0merrors\u001b[0m\u001b[1;33m)\u001b[0m\u001b[1;33m\u001b[0m\u001b[1;33m\u001b[0m\u001b[0m\n\u001b[0m\u001b[0;32m    415\u001b[0m \u001b[1;33m\u001b[0m\u001b[0m\n\u001b[0;32m    416\u001b[0m     def convert(\n",
      "\u001b[1;32mc:\\users\\jhonatans\\appdata\\local\\programs\\python\\python39\\lib\\site-packages\\pandas\\core\\internals\\managers.py\u001b[0m in \u001b[0;36mapply\u001b[1;34m(self, f, align_keys, ignore_failures, **kwargs)\u001b[0m\n\u001b[0;32m    325\u001b[0m                     \u001b[0mapplied\u001b[0m \u001b[1;33m=\u001b[0m \u001b[0mb\u001b[0m\u001b[1;33m.\u001b[0m\u001b[0mapply\u001b[0m\u001b[1;33m(\u001b[0m\u001b[0mf\u001b[0m\u001b[1;33m,\u001b[0m \u001b[1;33m**\u001b[0m\u001b[0mkwargs\u001b[0m\u001b[1;33m)\u001b[0m\u001b[1;33m\u001b[0m\u001b[1;33m\u001b[0m\u001b[0m\n\u001b[0;32m    326\u001b[0m                 \u001b[1;32melse\u001b[0m\u001b[1;33m:\u001b[0m\u001b[1;33m\u001b[0m\u001b[1;33m\u001b[0m\u001b[0m\n\u001b[1;32m--> 327\u001b[1;33m                     \u001b[0mapplied\u001b[0m \u001b[1;33m=\u001b[0m \u001b[0mgetattr\u001b[0m\u001b[1;33m(\u001b[0m\u001b[0mb\u001b[0m\u001b[1;33m,\u001b[0m \u001b[0mf\u001b[0m\u001b[1;33m)\u001b[0m\u001b[1;33m(\u001b[0m\u001b[1;33m**\u001b[0m\u001b[0mkwargs\u001b[0m\u001b[1;33m)\u001b[0m\u001b[1;33m\u001b[0m\u001b[1;33m\u001b[0m\u001b[0m\n\u001b[0m\u001b[0;32m    328\u001b[0m             \u001b[1;32mexcept\u001b[0m \u001b[1;33m(\u001b[0m\u001b[0mTypeError\u001b[0m\u001b[1;33m,\u001b[0m \u001b[0mNotImplementedError\u001b[0m\u001b[1;33m)\u001b[0m\u001b[1;33m:\u001b[0m\u001b[1;33m\u001b[0m\u001b[1;33m\u001b[0m\u001b[0m\n\u001b[0;32m    329\u001b[0m                 \u001b[1;32mif\u001b[0m \u001b[1;32mnot\u001b[0m \u001b[0mignore_failures\u001b[0m\u001b[1;33m:\u001b[0m\u001b[1;33m\u001b[0m\u001b[1;33m\u001b[0m\u001b[0m\n",
      "\u001b[1;32mc:\\users\\jhonatans\\appdata\\local\\programs\\python\\python39\\lib\\site-packages\\pandas\\core\\internals\\blocks.py\u001b[0m in \u001b[0;36mastype\u001b[1;34m(self, dtype, copy, errors)\u001b[0m\n\u001b[0;32m    590\u001b[0m         \u001b[0mvalues\u001b[0m \u001b[1;33m=\u001b[0m \u001b[0mself\u001b[0m\u001b[1;33m.\u001b[0m\u001b[0mvalues\u001b[0m\u001b[1;33m\u001b[0m\u001b[1;33m\u001b[0m\u001b[0m\n\u001b[0;32m    591\u001b[0m \u001b[1;33m\u001b[0m\u001b[0m\n\u001b[1;32m--> 592\u001b[1;33m         \u001b[0mnew_values\u001b[0m \u001b[1;33m=\u001b[0m \u001b[0mastype_array_safe\u001b[0m\u001b[1;33m(\u001b[0m\u001b[0mvalues\u001b[0m\u001b[1;33m,\u001b[0m \u001b[0mdtype\u001b[0m\u001b[1;33m,\u001b[0m \u001b[0mcopy\u001b[0m\u001b[1;33m=\u001b[0m\u001b[0mcopy\u001b[0m\u001b[1;33m,\u001b[0m \u001b[0merrors\u001b[0m\u001b[1;33m=\u001b[0m\u001b[0merrors\u001b[0m\u001b[1;33m)\u001b[0m\u001b[1;33m\u001b[0m\u001b[1;33m\u001b[0m\u001b[0m\n\u001b[0m\u001b[0;32m    593\u001b[0m \u001b[1;33m\u001b[0m\u001b[0m\n\u001b[0;32m    594\u001b[0m         \u001b[0mnew_values\u001b[0m \u001b[1;33m=\u001b[0m \u001b[0mmaybe_coerce_values\u001b[0m\u001b[1;33m(\u001b[0m\u001b[0mnew_values\u001b[0m\u001b[1;33m)\u001b[0m\u001b[1;33m\u001b[0m\u001b[1;33m\u001b[0m\u001b[0m\n",
      "\u001b[1;32mc:\\users\\jhonatans\\appdata\\local\\programs\\python\\python39\\lib\\site-packages\\pandas\\core\\dtypes\\cast.py\u001b[0m in \u001b[0;36mastype_array_safe\u001b[1;34m(values, dtype, copy, errors)\u001b[0m\n\u001b[0;32m   1307\u001b[0m \u001b[1;33m\u001b[0m\u001b[0m\n\u001b[0;32m   1308\u001b[0m     \u001b[1;32mtry\u001b[0m\u001b[1;33m:\u001b[0m\u001b[1;33m\u001b[0m\u001b[1;33m\u001b[0m\u001b[0m\n\u001b[1;32m-> 1309\u001b[1;33m         \u001b[0mnew_values\u001b[0m \u001b[1;33m=\u001b[0m \u001b[0mastype_array\u001b[0m\u001b[1;33m(\u001b[0m\u001b[0mvalues\u001b[0m\u001b[1;33m,\u001b[0m \u001b[0mdtype\u001b[0m\u001b[1;33m,\u001b[0m \u001b[0mcopy\u001b[0m\u001b[1;33m=\u001b[0m\u001b[0mcopy\u001b[0m\u001b[1;33m)\u001b[0m\u001b[1;33m\u001b[0m\u001b[1;33m\u001b[0m\u001b[0m\n\u001b[0m\u001b[0;32m   1310\u001b[0m     \u001b[1;32mexcept\u001b[0m \u001b[1;33m(\u001b[0m\u001b[0mValueError\u001b[0m\u001b[1;33m,\u001b[0m \u001b[0mTypeError\u001b[0m\u001b[1;33m)\u001b[0m\u001b[1;33m:\u001b[0m\u001b[1;33m\u001b[0m\u001b[1;33m\u001b[0m\u001b[0m\n\u001b[0;32m   1311\u001b[0m         \u001b[1;31m# e.g. astype_nansafe can fail on object-dtype of strings\u001b[0m\u001b[1;33m\u001b[0m\u001b[1;33m\u001b[0m\u001b[1;33m\u001b[0m\u001b[0m\n",
      "\u001b[1;32mc:\\users\\jhonatans\\appdata\\local\\programs\\python\\python39\\lib\\site-packages\\pandas\\core\\dtypes\\cast.py\u001b[0m in \u001b[0;36mastype_array\u001b[1;34m(values, dtype, copy)\u001b[0m\n\u001b[0;32m   1255\u001b[0m \u001b[1;33m\u001b[0m\u001b[0m\n\u001b[0;32m   1256\u001b[0m     \u001b[1;32melse\u001b[0m\u001b[1;33m:\u001b[0m\u001b[1;33m\u001b[0m\u001b[1;33m\u001b[0m\u001b[0m\n\u001b[1;32m-> 1257\u001b[1;33m         \u001b[0mvalues\u001b[0m \u001b[1;33m=\u001b[0m \u001b[0mastype_nansafe\u001b[0m\u001b[1;33m(\u001b[0m\u001b[0mvalues\u001b[0m\u001b[1;33m,\u001b[0m \u001b[0mdtype\u001b[0m\u001b[1;33m,\u001b[0m \u001b[0mcopy\u001b[0m\u001b[1;33m=\u001b[0m\u001b[0mcopy\u001b[0m\u001b[1;33m)\u001b[0m\u001b[1;33m\u001b[0m\u001b[1;33m\u001b[0m\u001b[0m\n\u001b[0m\u001b[0;32m   1258\u001b[0m \u001b[1;33m\u001b[0m\u001b[0m\n\u001b[0;32m   1259\u001b[0m     \u001b[1;31m# in pandas we don't store numpy str dtypes, so convert to object\u001b[0m\u001b[1;33m\u001b[0m\u001b[1;33m\u001b[0m\u001b[1;33m\u001b[0m\u001b[0m\n",
      "\u001b[1;32mc:\\users\\jhonatans\\appdata\\local\\programs\\python\\python39\\lib\\site-packages\\pandas\\core\\dtypes\\cast.py\u001b[0m in \u001b[0;36mastype_nansafe\u001b[1;34m(arr, dtype, copy, skipna)\u001b[0m\n\u001b[0;32m   1172\u001b[0m         \u001b[1;31m# work around NumPy brokenness, #1987\u001b[0m\u001b[1;33m\u001b[0m\u001b[1;33m\u001b[0m\u001b[1;33m\u001b[0m\u001b[0m\n\u001b[0;32m   1173\u001b[0m         \u001b[1;32mif\u001b[0m \u001b[0mnp\u001b[0m\u001b[1;33m.\u001b[0m\u001b[0missubdtype\u001b[0m\u001b[1;33m(\u001b[0m\u001b[0mdtype\u001b[0m\u001b[1;33m.\u001b[0m\u001b[0mtype\u001b[0m\u001b[1;33m,\u001b[0m \u001b[0mnp\u001b[0m\u001b[1;33m.\u001b[0m\u001b[0minteger\u001b[0m\u001b[1;33m)\u001b[0m\u001b[1;33m:\u001b[0m\u001b[1;33m\u001b[0m\u001b[1;33m\u001b[0m\u001b[0m\n\u001b[1;32m-> 1174\u001b[1;33m             \u001b[1;32mreturn\u001b[0m \u001b[0mlib\u001b[0m\u001b[1;33m.\u001b[0m\u001b[0mastype_intsafe\u001b[0m\u001b[1;33m(\u001b[0m\u001b[0marr\u001b[0m\u001b[1;33m,\u001b[0m \u001b[0mdtype\u001b[0m\u001b[1;33m)\u001b[0m\u001b[1;33m\u001b[0m\u001b[1;33m\u001b[0m\u001b[0m\n\u001b[0m\u001b[0;32m   1175\u001b[0m \u001b[1;33m\u001b[0m\u001b[0m\n\u001b[0;32m   1176\u001b[0m         \u001b[1;31m# if we have a datetime/timedelta array of objects\u001b[0m\u001b[1;33m\u001b[0m\u001b[1;33m\u001b[0m\u001b[1;33m\u001b[0m\u001b[0m\n",
      "\u001b[1;32mc:\\users\\jhonatans\\appdata\\local\\programs\\python\\python39\\lib\\site-packages\\pandas\\_libs\\lib.pyx\u001b[0m in \u001b[0;36mpandas._libs.lib.astype_intsafe\u001b[1;34m()\u001b[0m\n",
      "\u001b[1;31mValueError\u001b[0m: invalid literal for int() with base 10: 'A563185'"
     ]
    }
   ],
   "source": [
    "# customer_id: float para int\n",
    "data['customer_id'] = data['customer_id'].astype('int')\n",
    "\n",
    "# bill_no: de str para int (aqui dá erro)\n",
    "data['bill_no'] = data['bill_no'].astype('int')"
   ]
  },
  {
   "cell_type": "markdown",
   "id": "527a6475",
   "metadata": {},
   "source": [
    "**NOTA:**\n",
    "\n",
    "1. Há 3 códigos de compra A563185, A563186, A563187 com uma letra \"A\" no código, indicando ajuste de debito no item comprado e preço negativo.\n",
    "\n",
    "**AÇÃO:**\n",
    "\n",
    "2. Remover as 3 compras, pois não foram consideradas compras de fato."
   ]
  },
  {
   "cell_type": "markdown",
   "id": "8f492afc",
   "metadata": {},
   "source": [
    "# 2.0 ESTATISTICA DESCRITIVA"
   ]
  },
  {
   "cell_type": "markdown",
   "id": "0101a969",
   "metadata": {},
   "source": [
    "## 2.1 Variaveis Numéricas"
   ]
  },
  {
   "cell_type": "code",
   "execution_count": 119,
   "id": "5e1bdde6",
   "metadata": {},
   "outputs": [
    {
     "data": {
      "text/html": [
       "<div>\n",
       "<style scoped>\n",
       "    .dataframe tbody tr th:only-of-type {\n",
       "        vertical-align: middle;\n",
       "    }\n",
       "\n",
       "    .dataframe tbody tr th {\n",
       "        vertical-align: top;\n",
       "    }\n",
       "\n",
       "    .dataframe thead th {\n",
       "        text-align: right;\n",
       "    }\n",
       "</style>\n",
       "<table border=\"1\" class=\"dataframe\">\n",
       "  <thead>\n",
       "    <tr style=\"text-align: right;\">\n",
       "      <th></th>\n",
       "      <th>count</th>\n",
       "      <th>mean</th>\n",
       "      <th>std</th>\n",
       "      <th>min</th>\n",
       "      <th>25%</th>\n",
       "      <th>50%</th>\n",
       "      <th>75%</th>\n",
       "      <th>max</th>\n",
       "    </tr>\n",
       "  </thead>\n",
       "  <tbody>\n",
       "    <tr>\n",
       "      <th>quantity</th>\n",
       "      <td>520609.0</td>\n",
       "      <td>10.145545</td>\n",
       "      <td>160.818639</td>\n",
       "      <td>-9600.00</td>\n",
       "      <td>1.00</td>\n",
       "      <td>3.00</td>\n",
       "      <td>10.00</td>\n",
       "      <td>80995.00</td>\n",
       "    </tr>\n",
       "    <tr>\n",
       "      <th>price</th>\n",
       "      <td>520609.0</td>\n",
       "      <td>3.837497</td>\n",
       "      <td>41.958621</td>\n",
       "      <td>-11062.06</td>\n",
       "      <td>1.25</td>\n",
       "      <td>2.08</td>\n",
       "      <td>4.13</td>\n",
       "      <td>13541.33</td>\n",
       "    </tr>\n",
       "  </tbody>\n",
       "</table>\n",
       "</div>"
      ],
      "text/plain": [
       "             count       mean         std       min   25%   50%    75%  \\\n",
       "quantity  520609.0  10.145545  160.818639  -9600.00  1.00  3.00  10.00   \n",
       "price     520609.0   3.837497   41.958621 -11062.06  1.25  2.08   4.13   \n",
       "\n",
       "               max  \n",
       "quantity  80995.00  \n",
       "price     13541.33  "
      ]
     },
     "execution_count": 119,
     "metadata": {},
     "output_type": "execute_result"
    }
   ],
   "source": [
    "data.describe().drop(columns='customer_id').T"
   ]
  },
  {
   "cell_type": "markdown",
   "id": "9227d144",
   "metadata": {},
   "source": [
    "**ANÁLISE:** \n",
    "\n",
    "1. Há quantidade de produtos negativos (Pode ser devolução?)\n",
    "2. Há preço de produtos negativos (Pode ser promoção?)\n",
    "\n",
    "**AÇÃO:**\n",
    "\n",
    "- Price: Os 3 casos de preços negativos serão removidos.\n",
    "- Quantity: Os casos de quantidade negativas serão mantidas e consideradas como produtos devolvidos (devoluções)."
   ]
  },
  {
   "cell_type": "markdown",
   "id": "59a6b473",
   "metadata": {},
   "source": [
    "## 2.2 Variaveis Categóricas"
   ]
  },
  {
   "cell_type": "code",
   "execution_count": 120,
   "id": "2ededca3",
   "metadata": {},
   "outputs": [
    {
     "data": {
      "text/plain": [
       "bill_no     20208\n",
       "itemname     4185\n",
       "country        30\n",
       "dtype: int64"
      ]
     },
     "execution_count": 120,
     "metadata": {},
     "output_type": "execute_result"
    }
   ],
   "source": [
    "# filtrando variaveis categóricas\n",
    "categorical = data.select_dtypes(include=['object'])\n",
    "\n",
    "# contando dados unicos para cada variavel categorica\n",
    "categorical.apply(lambda x: len(x.unique()))"
   ]
  },
  {
   "cell_type": "markdown",
   "id": "42983992",
   "metadata": {},
   "source": [
    "**INSIGHT:** \n",
    "\n",
    "- A empresa obteve 20.208 compras unicas.\n",
    "- A empresa tem 4.185 itens únicos.\n",
    "- A empresa tem clientes de 30 países distintos."
   ]
  },
  {
   "cell_type": "markdown",
   "id": "fc2606a1",
   "metadata": {},
   "source": [
    "## 2.3 Variaveis de Data"
   ]
  },
  {
   "cell_type": "code",
   "execution_count": 121,
   "id": "181388a0",
   "metadata": {},
   "outputs": [
    {
     "name": "stdout",
     "output_type": "stream",
     "text": [
      "Start Date: 2010-12-01 08:26:00\n",
      "End Date  : 2011-12-09 12:50:00\n"
     ]
    }
   ],
   "source": [
    "start = data['date'].min()\n",
    "end   = data['date'].max()\n",
    "\n",
    "print('Start Date:', start)\n",
    "print('End Date  :', end)"
   ]
  },
  {
   "cell_type": "markdown",
   "id": "f46900b8",
   "metadata": {},
   "source": [
    "**INSIGHT:** Há dados de 1 ano da empresa, começando em dezembro de 2010 e termiando em dezembro de 2011."
   ]
  },
  {
   "cell_type": "markdown",
   "id": "6970be68",
   "metadata": {},
   "source": [
    "# 3.0 FILTRAGEM DE DADOS"
   ]
  },
  {
   "cell_type": "markdown",
   "id": "95e8c07c",
   "metadata": {},
   "source": [
    "## 3.1 bill_no"
   ]
  },
  {
   "cell_type": "markdown",
   "id": "9a75e351",
   "metadata": {},
   "source": [
    "Filtrar/excluir as 3 compras com código contendo \"A\"."
   ]
  },
  {
   "cell_type": "code",
   "execution_count": 122,
   "id": "1b40eec8",
   "metadata": {},
   "outputs": [],
   "source": [
    "# indetifcando letras na compra\n",
    "bill_no_with_letter = list(data['bill_no'].apply(lambda x: x if 'A' in str(x) else None).unique())\n",
    "\n",
    "# index das linhas com a compra que possui letra\n",
    "index_bill_no_with_letter = list(data[data['bill_no'].isin(bill_no_with_letter)].index)\n",
    "\n",
    "# drop linhas com codigo de compra possuindo letras\n",
    "data.drop(index=index_bill_no_with_letter, inplace=True)\n",
    "\n",
    "# passando o tipo para int\n",
    "data['bill_no'] = data['bill_no'].astype('int')"
   ]
  },
  {
   "cell_type": "markdown",
   "id": "bf272d22",
   "metadata": {},
   "source": [
    "## 3.2 Quantity"
   ]
  },
  {
   "cell_type": "markdown",
   "id": "7e7811a9",
   "metadata": {},
   "source": [
    "Dividindo 2 dataframes entre compras e devoluções."
   ]
  },
  {
   "cell_type": "code",
   "execution_count": 123,
   "id": "fcbebcb0",
   "metadata": {},
   "outputs": [],
   "source": [
    "# devoluções\n",
    "returns = data.loc[data['quantity'] < 0, :]\n",
    "\n",
    "# compras\n",
    "purchases = data.loc[data['quantity'] >= 0, :].copy()"
   ]
  },
  {
   "cell_type": "markdown",
   "id": "ff0b93d8",
   "metadata": {},
   "source": [
    "## 3.3 Price"
   ]
  },
  {
   "cell_type": "markdown",
   "id": "c14ae2ae",
   "metadata": {},
   "source": [
    "Filtrando preços maiores que 0.04 para os casos de compras."
   ]
  },
  {
   "cell_type": "code",
   "execution_count": 125,
   "id": "cb369782",
   "metadata": {},
   "outputs": [],
   "source": [
    "# mantendo apenas compras com preços maiores que 0.04\n",
    "purchases = purchases.loc[purchases['price'] > 0.04, :]"
   ]
  },
  {
   "cell_type": "markdown",
   "id": "379b7516",
   "metadata": {},
   "source": [
    "# 3.0 Feature Engineering"
   ]
  },
  {
   "cell_type": "markdown",
   "id": "1abe993e",
   "metadata": {},
   "source": [
    "## 3.1 Levantamento de Hipóteses"
   ]
  },
  {
   "cell_type": "markdown",
   "id": "b2ecda7f",
   "metadata": {},
   "source": [
    "H1. Os clientes que fazem mais compras ficam no Reino Unido.\n",
    "\n",
    "H2. Os clientes que gastam mais ficam na Espanha.\n",
    "\n",
    "H3. Os clientes que levam a maior quantidade de produtos no carrinho ficam no Jpaão."
   ]
  },
  {
   "cell_type": "markdown",
   "id": "ffefd820",
   "metadata": {},
   "source": [
    "## 3.2 Criação de Feature"
   ]
  },
  {
   "cell_type": "code",
   "execution_count": 126,
   "id": "c534a8a1",
   "metadata": {},
   "outputs": [],
   "source": [
    "# derivando feature de Ano\n",
    "purchases['year'] = purchases['date'].dt.year   # dados de compras\n",
    "returns['year'] = returns['date'].dt.year       # dados de devoluções\n",
    "\n",
    "# derivando feature de Mês\n",
    "purchases['month'] = purchases['date'].dt.month # dados de compras\n",
    "returns['month'] = returns['date'].dt.month     # dados de devoluções\n",
    "\n",
    "# derivando feature de Dia\n",
    "purchases['day'] = purchases['date'].dt.day     # dados de compras\n",
    "returns['day'] = returns['date'].dt.day         # dados de devoluções\n",
    "\n",
    "# criando feature 'gross_revenue': quantidade de produtos x preço unitario\n",
    "purchases['gross_revenue'] = purchases['quantity'] * data['price']"
   ]
  },
  {
   "cell_type": "markdown",
   "id": "318bc8a0",
   "metadata": {},
   "source": [
    "# 4.0 Análise Exploratória de Dados"
   ]
  },
  {
   "cell_type": "markdown",
   "id": "6cf7aef3",
   "metadata": {},
   "source": [
    "## 4.1 Análise Univariada"
   ]
  },
  {
   "cell_type": "markdown",
   "id": "a0509f0a",
   "metadata": {},
   "source": [
    "### 4.1.1 Variaveis Numéricas - (Compras)"
   ]
  },
  {
   "cell_type": "code",
   "execution_count": 127,
   "id": "dacffc9d",
   "metadata": {},
   "outputs": [
    {
     "data": {
      "image/png": "[encoded data removed]",
      "text/plain": [
       "<Figure size 1080x720 with 6 Axes>"
      ]
     },
     "metadata": {
      "needs_background": "light"
     },
     "output_type": "display_data"
    }
   ],
   "source": [
    "# plotando histograma de variaveis numéricas\n",
    "purchases.drop(columns=['customer_id', 'date', 'bill_no']).hist(figsize=(15, 10), ec='k', bins=20, grid=False)\n",
    "sns.despine(right=True)\n",
    "plt.suptitle('Compras');"
   ]
  },
  {
   "cell_type": "markdown",
   "id": "1ee0408f",
   "metadata": {},
   "source": [
    "**INSIGHT:**\n",
    "\n",
    "- Quantity: A quantidade de itens em compras legítimas varia de 0 a 5.000. \n",
    "- Price: O preço dos produtos varia em torno de 0.04 a 1.300.\n",
    "- Year: Há maior quantidade de compras em 2011.\n",
    "- Month: No final do ano, há maior quantidade de compras.\n",
    "- Day: Há maior quantidade de compras entre os dias 1 e 15."
   ]
  },
  {
   "cell_type": "markdown",
   "id": "f3094bfa",
   "metadata": {},
   "source": [
    "### 4.1.2 Variaveis Numéricas - (Devoluções)"
   ]
  },
  {
   "cell_type": "code",
   "execution_count": 128,
   "id": "8811578e",
   "metadata": {},
   "outputs": [
    {
     "data": {
      "image/png": "[encoded data removed]",
      "text/plain": [
       "<Figure size 1080x720 with 6 Axes>"
      ]
     },
     "metadata": {
      "needs_background": "light"
     },
     "output_type": "display_data"
    }
   ],
   "source": [
    "# plotando histograma de variaveis numéricas\n",
    "returns.drop(columns=['customer_id', 'date', 'bill_no']).hist(figsize=(15, 10), ec='k', bins=25, grid=False)\n",
    "sns.despine(right=True)\n",
    "plt.suptitle('Devoluções');"
   ]
  },
  {
   "cell_type": "markdown",
   "id": "e09436f3",
   "metadata": {},
   "source": [
    "**INSIGHT:**\n",
    "\n",
    "- Quantity: A maior parte da quanitdade de itens devolvidos está entre 1 e 2 mil itens.\n",
    "- Price: As devoluções possuem valores zeradados.\n",
    "- Day: A maior parte das devoluções aconteceram em 2011.\n",
    "- Month: A maior parte das devoluções aconteceram nos meses 10 (outubro) e 11 (novembro).\n",
    "- Day: A maior parte das devoluções aconteceram nos dias 30/31 e entre os dias 1 e 15."
   ]
  },
  {
   "cell_type": "markdown",
   "id": "956e6f03",
   "metadata": {},
   "source": [
    "### 4.1.3 Outliers - (Compras)"
   ]
  },
  {
   "cell_type": "code",
   "execution_count": 129,
   "id": "4cedecad",
   "metadata": {},
   "outputs": [
    {
     "data": {
      "image/png": "[encoded data removed]",
      "text/plain": [
       "<Figure size 1080x720 with 5 Axes>"
      ]
     },
     "metadata": {
      "needs_background": "light"
     },
     "output_type": "display_data"
    }
   ],
   "source": [
    "# 1º figura\n",
    "plt.figure(figsize=(15, 10))\n",
    "plt.subplot(3, 2, 1)\n",
    "sns.boxplot(x='quantity', data=purchases)\n",
    "\n",
    "# 2º figura\n",
    "plt.subplot(3, 2, 2)\n",
    "sns.boxplot(x='price', data=purchases)\n",
    "\n",
    "# 3º figura\n",
    "plt.subplot(3, 2, 3)\n",
    "sns.boxplot(x='year', data=purchases)\n",
    "\n",
    "# 4º figura\n",
    "plt.subplot(3, 2, 4)\n",
    "sns.boxplot(x='month', data=purchases)\n",
    "\n",
    "# 5º figura\n",
    "plt.subplot(3, 2, 5)\n",
    "sns.boxplot(x='day', data=purchases)\n",
    "plt.suptitle('Compras')\n",
    "sns.despine(right=True);"
   ]
  },
  {
   "cell_type": "markdown",
   "id": "7f601899",
   "metadata": {},
   "source": [
    "**INSIGHT:**\n",
    "\n",
    "- Quantity: Há 2 compras com quantidade de itens acima do normal. Levando uma quantidade de itens acima de 70 mil.\n",
    "- Price: Há 2 produtos com preços acima do normal. Custando mais que 8 mil."
   ]
  },
  {
   "cell_type": "markdown",
   "id": "18c81a56",
   "metadata": {},
   "source": [
    "#### 4.1.3.1 Investigando Outliers - (Compras)"
   ]
  },
  {
   "cell_type": "markdown",
   "id": "abf916ce",
   "metadata": {},
   "source": [
    "#### 4.1.3.1.1 Quantity"
   ]
  },
  {
   "cell_type": "markdown",
   "id": "3ad60727",
   "metadata": {},
   "source": [
    "Identificando os clientes e compras Outliers."
   ]
  },
  {
   "cell_type": "code",
   "execution_count": 134,
   "id": "27dee02c",
   "metadata": {},
   "outputs": [
    {
     "data": {
      "text/html": [
       "<div>\n",
       "<style scoped>\n",
       "    .dataframe tbody tr th:only-of-type {\n",
       "        vertical-align: middle;\n",
       "    }\n",
       "\n",
       "    .dataframe tbody tr th {\n",
       "        vertical-align: top;\n",
       "    }\n",
       "\n",
       "    .dataframe thead th {\n",
       "        text-align: right;\n",
       "    }\n",
       "</style>\n",
       "<table border=\"1\" class=\"dataframe\">\n",
       "  <thead>\n",
       "    <tr style=\"text-align: right;\">\n",
       "      <th></th>\n",
       "      <th>bill_no</th>\n",
       "      <th>itemname</th>\n",
       "      <th>quantity</th>\n",
       "      <th>date</th>\n",
       "      <th>price</th>\n",
       "      <th>country</th>\n",
       "      <th>customer_id</th>\n",
       "      <th>year</th>\n",
       "      <th>month</th>\n",
       "      <th>day</th>\n",
       "      <th>gross_revenue</th>\n",
       "    </tr>\n",
       "  </thead>\n",
       "  <tbody>\n",
       "    <tr>\n",
       "      <th>59999</th>\n",
       "      <td>541431</td>\n",
       "      <td>MEDIUM CERAMIC TOP STORAGE JAR</td>\n",
       "      <td>74215</td>\n",
       "      <td>2011-01-18 10:01:00</td>\n",
       "      <td>1.04</td>\n",
       "      <td>United Kingdom</td>\n",
       "      <td>12346</td>\n",
       "      <td>2011</td>\n",
       "      <td>1</td>\n",
       "      <td>18</td>\n",
       "      <td>77183.6</td>\n",
       "    </tr>\n",
       "    <tr>\n",
       "      <th>520583</th>\n",
       "      <td>581483</td>\n",
       "      <td>PAPER CRAFT , LITTLE BIRDIE</td>\n",
       "      <td>80995</td>\n",
       "      <td>2011-12-09 09:15:00</td>\n",
       "      <td>2.08</td>\n",
       "      <td>United Kingdom</td>\n",
       "      <td>16446</td>\n",
       "      <td>2011</td>\n",
       "      <td>12</td>\n",
       "      <td>9</td>\n",
       "      <td>168469.6</td>\n",
       "    </tr>\n",
       "  </tbody>\n",
       "</table>\n",
       "</div>"
      ],
      "text/plain": [
       "        bill_no                        itemname  quantity                date  \\\n",
       "59999    541431  MEDIUM CERAMIC TOP STORAGE JAR     74215 2011-01-18 10:01:00   \n",
       "520583   581483     PAPER CRAFT , LITTLE BIRDIE     80995 2011-12-09 09:15:00   \n",
       "\n",
       "        price         country  customer_id  year  month  day  gross_revenue  \n",
       "59999    1.04  United Kingdom        12346  2011      1   18        77183.6  \n",
       "520583   2.08  United Kingdom        16446  2011     12    9       168469.6  "
      ]
     },
     "execution_count": 134,
     "metadata": {},
     "output_type": "execute_result"
    }
   ],
   "source": [
    "# filtrando compras com quantidade de itens maior que 70 mil\n",
    "purchases[purchases['quantity'] > 70000]"
   ]
  },
  {
   "cell_type": "markdown",
   "id": "ce4ed960",
   "metadata": {},
   "source": [
    "Visualizando histórico de compra dos clientes Outliers."
   ]
  },
  {
   "cell_type": "code",
   "execution_count": 150,
   "id": "72534be3",
   "metadata": {},
   "outputs": [
    {
     "data": {
      "text/html": [
       "<div>\n",
       "<style scoped>\n",
       "    .dataframe tbody tr th:only-of-type {\n",
       "        vertical-align: middle;\n",
       "    }\n",
       "\n",
       "    .dataframe tbody tr th {\n",
       "        vertical-align: top;\n",
       "    }\n",
       "\n",
       "    .dataframe thead th {\n",
       "        text-align: right;\n",
       "    }\n",
       "</style>\n",
       "<table border=\"1\" class=\"dataframe\">\n",
       "  <thead>\n",
       "    <tr style=\"text-align: right;\">\n",
       "      <th></th>\n",
       "      <th>bill_no</th>\n",
       "      <th>itemname</th>\n",
       "      <th>quantity</th>\n",
       "      <th>date</th>\n",
       "      <th>price</th>\n",
       "      <th>country</th>\n",
       "      <th>customer_id</th>\n",
       "      <th>year</th>\n",
       "      <th>month</th>\n",
       "      <th>day</th>\n",
       "      <th>gross_revenue</th>\n",
       "    </tr>\n",
       "  </thead>\n",
       "  <tbody>\n",
       "    <tr>\n",
       "      <th>187655</th>\n",
       "      <td>553573</td>\n",
       "      <td>PANTRY SCRUBBING BRUSH</td>\n",
       "      <td>1</td>\n",
       "      <td>2011-05-18 09:52:00</td>\n",
       "      <td>1.65</td>\n",
       "      <td>United Kingdom</td>\n",
       "      <td>16446</td>\n",
       "      <td>2011</td>\n",
       "      <td>5</td>\n",
       "      <td>18</td>\n",
       "      <td>1.65</td>\n",
       "    </tr>\n",
       "    <tr>\n",
       "      <th>187656</th>\n",
       "      <td>553573</td>\n",
       "      <td>PANTRY PASTRY BRUSH</td>\n",
       "      <td>1</td>\n",
       "      <td>2011-05-18 09:52:00</td>\n",
       "      <td>1.25</td>\n",
       "      <td>United Kingdom</td>\n",
       "      <td>16446</td>\n",
       "      <td>2011</td>\n",
       "      <td>5</td>\n",
       "      <td>18</td>\n",
       "      <td>1.25</td>\n",
       "    </tr>\n",
       "    <tr>\n",
       "      <th>520583</th>\n",
       "      <td>581483</td>\n",
       "      <td>PAPER CRAFT , LITTLE BIRDIE</td>\n",
       "      <td>80995</td>\n",
       "      <td>2011-12-09 09:15:00</td>\n",
       "      <td>2.08</td>\n",
       "      <td>United Kingdom</td>\n",
       "      <td>16446</td>\n",
       "      <td>2011</td>\n",
       "      <td>12</td>\n",
       "      <td>9</td>\n",
       "      <td>168469.60</td>\n",
       "    </tr>\n",
       "  </tbody>\n",
       "</table>\n",
       "</div>"
      ],
      "text/plain": [
       "        bill_no                     itemname  quantity                date  \\\n",
       "187655   553573       PANTRY SCRUBBING BRUSH         1 2011-05-18 09:52:00   \n",
       "187656   553573          PANTRY PASTRY BRUSH         1 2011-05-18 09:52:00   \n",
       "520583   581483  PAPER CRAFT , LITTLE BIRDIE     80995 2011-12-09 09:15:00   \n",
       "\n",
       "        price         country  customer_id  year  month  day  gross_revenue  \n",
       "187655   1.65  United Kingdom        16446  2011      5   18           1.65  \n",
       "187656   1.25  United Kingdom        16446  2011      5   18           1.25  \n",
       "520583   2.08  United Kingdom        16446  2011     12    9      168469.60  "
      ]
     },
     "execution_count": 150,
     "metadata": {},
     "output_type": "execute_result"
    }
   ],
   "source": [
    "# cliente 12346 não possui historico\n",
    "# visualizando historico do cliente 16446\n",
    "purchases[purchases['customer_id'] == 16446]"
   ]
  },
  {
   "cell_type": "markdown",
   "id": "efc1dede",
   "metadata": {},
   "source": [
    "**ANÁLISE:**\n",
    "\n",
    "Os 2 Outliers são o mesmo cliente que fez 2 compras em épocas diferentes. Em uma compra levou 74 mil itens de um produto no inicio de 2011, e, na outra, levou 80 mil itens de outro produto no final de 2011. O cliente com ID 12346, fez apenas uma compra. Já o cliente de ID 16446, fez 2 compras, na primeira, levou apenas 2 itens e na segunda, se tornou outlier levando 80 mil.\n",
    "\n",
    "**AÇÃO:**\n",
    "\n",
    "Excluir a compra do ID 16446 por parecer suspeita. Manter a compra do ID 12346, pois não parece ser um erro de sistema ou algo do tipo, aparenta ser alguém que revende produtos e quando tem uma promoção leva uma grande quantidade."
   ]
  },
  {
   "cell_type": "markdown",
   "id": "ca257101",
   "metadata": {},
   "source": [
    "#### 4.1.3.1.2 Price"
   ]
  },
  {
   "cell_type": "markdown",
   "id": "0f05f3cb",
   "metadata": {},
   "source": [
    "Identificando os produtos e compras Outliers."
   ]
  },
  {
   "cell_type": "code",
   "execution_count": 135,
   "id": "adcf3f59",
   "metadata": {},
   "outputs": [
    {
     "data": {
      "text/html": [
       "<div>\n",
       "<style scoped>\n",
       "    .dataframe tbody tr th:only-of-type {\n",
       "        vertical-align: middle;\n",
       "    }\n",
       "\n",
       "    .dataframe tbody tr th {\n",
       "        vertical-align: top;\n",
       "    }\n",
       "\n",
       "    .dataframe thead th {\n",
       "        text-align: right;\n",
       "    }\n",
       "</style>\n",
       "<table border=\"1\" class=\"dataframe\">\n",
       "  <thead>\n",
       "    <tr style=\"text-align: right;\">\n",
       "      <th></th>\n",
       "      <th>bill_no</th>\n",
       "      <th>itemname</th>\n",
       "      <th>quantity</th>\n",
       "      <th>date</th>\n",
       "      <th>price</th>\n",
       "      <th>country</th>\n",
       "      <th>customer_id</th>\n",
       "      <th>year</th>\n",
       "      <th>month</th>\n",
       "      <th>day</th>\n",
       "      <th>gross_revenue</th>\n",
       "    </tr>\n",
       "  </thead>\n",
       "  <tbody>\n",
       "    <tr>\n",
       "      <th>14696</th>\n",
       "      <td>537632</td>\n",
       "      <td>AMAZON FEE</td>\n",
       "      <td>1</td>\n",
       "      <td>2010-12-07 15:08:00</td>\n",
       "      <td>13541.33</td>\n",
       "      <td>United Kingdom</td>\n",
       "      <td>2543</td>\n",
       "      <td>2010</td>\n",
       "      <td>12</td>\n",
       "      <td>7</td>\n",
       "      <td>13541.33</td>\n",
       "    </tr>\n",
       "    <tr>\n",
       "      <th>167329</th>\n",
       "      <td>551697</td>\n",
       "      <td>POSTAGE</td>\n",
       "      <td>1</td>\n",
       "      <td>2011-05-03 13:46:00</td>\n",
       "      <td>8142.75</td>\n",
       "      <td>United Kingdom</td>\n",
       "      <td>16029</td>\n",
       "      <td>2011</td>\n",
       "      <td>5</td>\n",
       "      <td>3</td>\n",
       "      <td>8142.75</td>\n",
       "    </tr>\n",
       "  </tbody>\n",
       "</table>\n",
       "</div>"
      ],
      "text/plain": [
       "        bill_no    itemname  quantity                date     price  \\\n",
       "14696    537632  AMAZON FEE         1 2010-12-07 15:08:00  13541.33   \n",
       "167329   551697     POSTAGE         1 2011-05-03 13:46:00   8142.75   \n",
       "\n",
       "               country  customer_id  year  month  day  gross_revenue  \n",
       "14696   United Kingdom         2543  2010     12    7       13541.33  \n",
       "167329  United Kingdom        16029  2011      5    3        8142.75  "
      ]
     },
     "execution_count": 135,
     "metadata": {},
     "output_type": "execute_result"
    }
   ],
   "source": [
    "# filtrando compras com preço do produto maior que 8 mil\n",
    "purchases[purchases['price'] > 8000]"
   ]
  },
  {
   "cell_type": "markdown",
   "id": "2e8e1469",
   "metadata": {},
   "source": [
    "**ANÁLISE:**\n",
    "\n",
    "Os 2 protudos com preços outliers são produtos \"não convencionais\", um é sobre postagem e outro é algum tipo de taxa da amazon. A análise feita é que a empresa oferece produtos deste tipo e que é vendido por \"tamanho\" do serviço, seja de postagem ou taxa algum produto envolvendo a Amazon.\n",
    "\n",
    "**AÇÃO:**\n",
    "\n",
    "Seguindo a premissa acima, será mantido as 2 compras."
   ]
  },
  {
   "cell_type": "markdown",
   "id": "fb823cf4",
   "metadata": {},
   "source": [
    "### 4.1.4 Outliers - (Devoluções)"
   ]
  },
  {
   "cell_type": "code",
   "execution_count": 67,
   "id": "b6888cfe",
   "metadata": {},
   "outputs": [
    {
     "data": {
      "image/png": "[encoded data removed]",
      "text/plain": [
       "<Figure size 1080x720 with 5 Axes>"
      ]
     },
     "metadata": {
      "needs_background": "light"
     },
     "output_type": "display_data"
    }
   ],
   "source": [
    "# 1º figura\n",
    "plt.figure(figsize=(15, 10))\n",
    "plt.subplot(3, 2, 1)\n",
    "sns.boxplot(x='quantity', data=returns)\n",
    "\n",
    "# 2º figura\n",
    "plt.subplot(3, 2, 2)\n",
    "sns.boxplot(x='price', data=returns)\n",
    "\n",
    "# 3º figura\n",
    "plt.subplot(3, 2, 3)\n",
    "sns.boxplot(x='year', data=returns)\n",
    "\n",
    "# 4º figura\n",
    "plt.subplot(3, 2, 4)\n",
    "sns.boxplot(x='month', data=returns)\n",
    "\n",
    "# 5º figura\n",
    "plt.subplot(3, 2, 5)\n",
    "sns.boxplot(x='day', data=returns)\n",
    "plt.suptitle('Devoluções')\n",
    "sns.despine(right=True);"
   ]
  },
  {
   "cell_type": "markdown",
   "id": "1837a389",
   "metadata": {},
   "source": [
    "**INSIGHT:**\n",
    "\n",
    "- Quantity: Há 5 compras com quanitdade de itens devolvidos acima do normal. Devolvendo acima de 4 mil itens."
   ]
  },
  {
   "cell_type": "markdown",
   "id": "cff198ac",
   "metadata": {},
   "source": [
    "####  4.1.4.1 Investigando Outliers - (Devoluções)"
   ]
  },
  {
   "cell_type": "markdown",
   "id": "dda3a760",
   "metadata": {},
   "source": [
    "#### 4.1.4.2 Quantity"
   ]
  },
  {
   "cell_type": "markdown",
   "id": "1b0bfee0",
   "metadata": {},
   "source": [
    "Identificando clientes que devolveram mais de 4 mil itens."
   ]
  },
  {
   "cell_type": "code",
   "execution_count": 159,
   "id": "40336e57",
   "metadata": {},
   "outputs": [
    {
     "data": {
      "text/html": [
       "<div>\n",
       "<style scoped>\n",
       "    .dataframe tbody tr th:only-of-type {\n",
       "        vertical-align: middle;\n",
       "    }\n",
       "\n",
       "    .dataframe tbody tr th {\n",
       "        vertical-align: top;\n",
       "    }\n",
       "\n",
       "    .dataframe thead th {\n",
       "        text-align: right;\n",
       "    }\n",
       "</style>\n",
       "<table border=\"1\" class=\"dataframe\">\n",
       "  <thead>\n",
       "    <tr style=\"text-align: right;\">\n",
       "      <th></th>\n",
       "      <th>bill_no</th>\n",
       "      <th>itemname</th>\n",
       "      <th>quantity</th>\n",
       "      <th>date</th>\n",
       "      <th>price</th>\n",
       "      <th>country</th>\n",
       "      <th>customer_id</th>\n",
       "      <th>year</th>\n",
       "      <th>month</th>\n",
       "      <th>day</th>\n",
       "    </tr>\n",
       "  </thead>\n",
       "  <tbody>\n",
       "    <tr>\n",
       "      <th>111940</th>\n",
       "      <td>546152</td>\n",
       "      <td>throw away</td>\n",
       "      <td>-5368</td>\n",
       "      <td>2011-03-09 17:25:00</td>\n",
       "      <td>0.0</td>\n",
       "      <td>United Kingdom</td>\n",
       "      <td>6380</td>\n",
       "      <td>2011</td>\n",
       "      <td>3</td>\n",
       "      <td>9</td>\n",
       "    </tr>\n",
       "    <tr>\n",
       "      <th>217657</th>\n",
       "      <td>556687</td>\n",
       "      <td>Printing smudges/thrown away</td>\n",
       "      <td>-9058</td>\n",
       "      <td>2011-06-14 10:36:00</td>\n",
       "      <td>0.0</td>\n",
       "      <td>United Kingdom</td>\n",
       "      <td>11609</td>\n",
       "      <td>2011</td>\n",
       "      <td>6</td>\n",
       "      <td>14</td>\n",
       "    </tr>\n",
       "    <tr>\n",
       "      <th>217658</th>\n",
       "      <td>556690</td>\n",
       "      <td>printing smudges/thrown away</td>\n",
       "      <td>-9600</td>\n",
       "      <td>2011-06-14 10:37:00</td>\n",
       "      <td>0.0</td>\n",
       "      <td>United Kingdom</td>\n",
       "      <td>11610</td>\n",
       "      <td>2011</td>\n",
       "      <td>6</td>\n",
       "      <td>14</td>\n",
       "    </tr>\n",
       "    <tr>\n",
       "      <th>217659</th>\n",
       "      <td>556691</td>\n",
       "      <td>printing smudges/thrown away</td>\n",
       "      <td>-9600</td>\n",
       "      <td>2011-06-14 10:37:00</td>\n",
       "      <td>0.0</td>\n",
       "      <td>United Kingdom</td>\n",
       "      <td>11611</td>\n",
       "      <td>2011</td>\n",
       "      <td>6</td>\n",
       "      <td>14</td>\n",
       "    </tr>\n",
       "    <tr>\n",
       "      <th>414734</th>\n",
       "      <td>573596</td>\n",
       "      <td>Unsaleable, destroyed.</td>\n",
       "      <td>-4830</td>\n",
       "      <td>2011-10-31 15:17:00</td>\n",
       "      <td>0.0</td>\n",
       "      <td>United Kingdom</td>\n",
       "      <td>19725</td>\n",
       "      <td>2011</td>\n",
       "      <td>10</td>\n",
       "      <td>31</td>\n",
       "    </tr>\n",
       "  </tbody>\n",
       "</table>\n",
       "</div>"
      ],
      "text/plain": [
       "        bill_no                      itemname  quantity                date  \\\n",
       "111940   546152                    throw away     -5368 2011-03-09 17:25:00   \n",
       "217657   556687  Printing smudges/thrown away     -9058 2011-06-14 10:36:00   \n",
       "217658   556690  printing smudges/thrown away     -9600 2011-06-14 10:37:00   \n",
       "217659   556691  printing smudges/thrown away     -9600 2011-06-14 10:37:00   \n",
       "414734   573596        Unsaleable, destroyed.     -4830 2011-10-31 15:17:00   \n",
       "\n",
       "        price         country  customer_id  year  month  day  \n",
       "111940    0.0  United Kingdom         6380  2011      3    9  \n",
       "217657    0.0  United Kingdom        11609  2011      6   14  \n",
       "217658    0.0  United Kingdom        11610  2011      6   14  \n",
       "217659    0.0  United Kingdom        11611  2011      6   14  \n",
       "414734    0.0  United Kingdom        19725  2011     10   31  "
      ]
     },
     "execution_count": 159,
     "metadata": {},
     "output_type": "execute_result"
    }
   ],
   "source": [
    "returns[returns['quantity'] < -4000]"
   ]
  },
  {
   "cell_type": "markdown",
   "id": "7833521f",
   "metadata": {},
   "source": [
    "**ANÁLISE:**\n",
    "\n",
    "O comportamento das devoluções parecem ser normais, não demonstram ser erros de sistema ou algo do tipo. Todas as devoluções outliers aconteceram em 2011.\n",
    "\n",
    "**AÇÃO:**\n",
    "\n",
    "Manter as devoluções."
   ]
  },
  {
   "cell_type": "markdown",
   "id": "b9385cbb",
   "metadata": {},
   "source": [
    "### 4.1.5 Variaveis Categóricas"
   ]
  },
  {
   "cell_type": "code",
   "execution_count": 202,
   "id": "fc0d28a3",
   "metadata": {},
   "outputs": [
    {
     "data": {
      "image/png": "[encoded data removed]",
      "text/plain": [
       "<Figure size 1080x360 with 1 Axes>"
      ]
     },
     "metadata": {
      "needs_background": "light"
     },
     "output_type": "display_data"
    },
    {
     "data": {
      "image/png": "[encoded data removed]",
      "text/plain": [
       "<Figure size 1080x360 with 1 Axes>"
      ]
     },
     "metadata": {
      "needs_background": "light"
     },
     "output_type": "display_data"
    }
   ],
   "source": [
    "plt.figure(figsize=(15, 5))\n",
    "order_country = data['country'].value_counts().sort_values(ascending=False)\n",
    "sns.countplot(x='country', data=data, order=order_country.index)\n",
    "sns.despine(right=True)\n",
    "plt.xticks(rotation=90)\n",
    "plt.xlabel('Quantity')\n",
    "plt.title('Country');\n",
    "\n",
    "plt.figure(figsize=(15, 5))\n",
    "order_item = data['itemname'].value_counts().sort_values(ascending=False)[:30]\n",
    "sns.countplot(x='itemname', data=data, order=order_item.index)\n",
    "sns.despine(right=True)\n",
    "plt.xticks(rotation=90)\n",
    "plt.xlabel('Quantity')\n",
    "plt.title('Item Name - Top 30');"
   ]
  },
  {
   "cell_type": "markdown",
   "id": "3040a4cc",
   "metadata": {},
   "source": [
    "## 4.2 Análise Bivariada"
   ]
  },
  {
   "cell_type": "markdown",
   "id": "a103ede8",
   "metadata": {},
   "source": [
    "### H1. Os clientes que fizeram mais compras ficam no Reino Unido.\n",
    "\n",
    "**VERDADEIRA** Os clientes que fizeram mais compras ficam no Reino Unido."
   ]
  },
  {
   "cell_type": "code",
   "execution_count": 198,
   "id": "504f88c8",
   "metadata": {},
   "outputs": [
    {
     "data": {
      "image/png": "[encoded data removed]",
      "text/plain": [
       "<Figure size 1080x360 with 1 Axes>"
      ]
     },
     "metadata": {
      "needs_background": "light"
     },
     "output_type": "display_data"
    }
   ],
   "source": [
    "aux1 = data[['bill_no', 'country']].groupby(['bill_no', 'country']).count().reset_index()\n",
    "order = aux1['country'].value_counts().sort_values(ascending=False)\n",
    "\n",
    "plt.figure(figsize=(15, 5))\n",
    "sns.countplot(x='country', data=aux1, order=order.index)\n",
    "sns.despine(right=True)\n",
    "plt.xticks(rotation=90)\n",
    "plt.title('Quantidade de compras únicas por País');"
   ]
  },
  {
   "cell_type": "markdown",
   "id": "eb19e1ef",
   "metadata": {},
   "source": [
    "### H2. Os clientes que gastam mais ficam na Espanha.\n",
    "\n",
    "**FALSA** Os clientes que gastam mais ficam no Reino Unido."
   ]
  },
  {
   "cell_type": "code",
   "execution_count": 196,
   "id": "af2099b4",
   "metadata": {},
   "outputs": [
    {
     "data": {
      "image/png": "[encoded data removed]",
      "text/plain": [
       "<Figure size 1080x360 with 1 Axes>"
      ]
     },
     "metadata": {
      "needs_background": "light"
     },
     "output_type": "display_data"
    }
   ],
   "source": [
    "aux2 = data[['gross_revenue', 'country']].groupby('country').sum().reset_index().sort_values(by='gross_revenue', ascending=False)\n",
    "\n",
    "plt.figure(figsize=(15, 5))\n",
    "sns.barplot(x='country', y='gross_revenue', data=aux2)\n",
    "sns.despine(right=True)\n",
    "plt.xticks(rotation=90)\n",
    "plt.title('Gasto do cliente por País');"
   ]
  },
  {
   "cell_type": "markdown",
   "id": "0ae04776",
   "metadata": {},
   "source": [
    "### H3. Os clientes que levam a maior quantidade de produtos no carrinho ficam no Japão.\n",
    "\n",
    "**FALSA** Os clientes que levam a maior quantidade de produtos no carrinho ficam no Reino Unido."
   ]
  },
  {
   "cell_type": "code",
   "execution_count": 192,
   "id": "f64f7fe8",
   "metadata": {},
   "outputs": [
    {
     "data": {
      "image/png": "[encoded data removed]",
      "text/plain": [
       "<Figure size 1080x360 with 1 Axes>"
      ]
     },
     "metadata": {
      "needs_background": "light"
     },
     "output_type": "display_data"
    }
   ],
   "source": [
    "aux3 = data[['itemname', 'country']].groupby(['country']).count().reset_index().rename(columns={'itemname': 'item_qty'}).sort_values(by='item_qty', ascending=False)\n",
    "\n",
    "plt.figure(figsize=(15, 5))\n",
    "sns.barplot(x='country', y='item_qty', data=aux3)\n",
    "sns.despine(right=True)\n",
    "plt.xticks(rotation=90);"
   ]
  },
  {
   "cell_type": "markdown",
   "id": "e6b0f062",
   "metadata": {},
   "source": [
    "### H4. Os clientes que levam a maior quantidade de itens no carrinho ficam no Japão."
   ]
  },
  {
   "cell_type": "code",
   "execution_count": 194,
   "id": "7f9da5ae",
   "metadata": {},
   "outputs": [
    {
     "data": {
      "image/png": "[encoded data removed]",
      "text/plain": [
       "<Figure size 1080x360 with 1 Axes>"
      ]
     },
     "metadata": {
      "needs_background": "light"
     },
     "output_type": "display_data"
    }
   ],
   "source": [
    "aux4 = data[['quantity', 'country']].groupby('country').sum().reset_index().sort_values(by='quantity', ascending=False)\n",
    "\n",
    "plt.figure(figsize=(15, 5))\n",
    "sns.barplot(x='country', y='quantity', data=aux4)\n",
    "sns.despine(right=True)\n",
    "plt.xticks(rotation=90);"
   ]
  },
  {
   "cell_type": "markdown",
   "id": "721ac2a5",
   "metadata": {},
   "source": [
    "## 4.3 Análise Multivariada"
   ]
  },
  {
   "cell_type": "markdown",
   "id": "624cca5c",
   "metadata": {},
   "source": [
    "### 4.3.1 Variaveis Numéricas"
   ]
  },
  {
   "cell_type": "code",
   "execution_count": 57,
   "id": "36b6d1a4",
   "metadata": {},
   "outputs": [
    {
     "data": {
      "image/png": "[encoded data removed]",
      "text/plain": [
       "<Figure size 1080x360 with 2 Axes>"
      ]
     },
     "metadata": {
      "needs_background": "light"
     },
     "output_type": "display_data"
    }
   ],
   "source": [
    "plt.figure(figsize=(15, 5))\n",
    "sns.heatmap(data.corr(method='pearson'), annot=True)\n",
    "plt.title('Correlação - Variaveis Numéricas');"
   ]
  },
  {
   "cell_type": "markdown",
   "id": "5751d27f",
   "metadata": {},
   "source": [
    "### 4.3.2 Variaveis Categóricas"
   ]
  },
  {
   "cell_type": "markdown",
   "id": "6bd3aff9",
   "metadata": {},
   "source": [
    "# 5.0  RESULTADOS"
   ]
  },
  {
   "cell_type": "markdown",
   "id": "b51b97cd",
   "metadata": {},
   "source": [
    "### Perfil de clientes que trazem maior retorno para a empresa em valor monetario."
   ]
  },
  {
   "cell_type": "markdown",
   "id": "ee10df4d",
   "metadata": {},
   "source": [
    "### Perfil de clientes que compram maior quantidade de produtos."
   ]
  },
  {
   "cell_type": "markdown",
   "id": "8863c789",
   "metadata": {},
   "source": [
    "### Época do ano em que os clientes mais compram."
   ]
  },
  {
   "cell_type": "markdown",
   "id": "8422d157",
   "metadata": {},
   "source": [
    "### Perfil dos clientes que compram com maior frequencia."
   ]
  }
 ],
 "metadata": {
  "kernelspec": {
   "display_name": "Python 3 (ipykernel)",
   "language": "python",
   "name": "python3"
  },
  "language_info": {
   "codemirror_mode": {
    "name": "ipython",
    "version": 3
   },
   "file_extension": ".py",
   "mimetype": "text/x-python",
   "name": "python",
   "nbconvert_exporter": "python",
   "pygments_lexer": "ipython3",
   "version": "3.9.6"
  }
 },
 "nbformat": 4,
 "nbformat_minor": 5
}
